{
  "nbformat": 4,
  "nbformat_minor": 0,
  "metadata": {
    "colab": {
      "provenance": []
    },
    "kernelspec": {
      "name": "python3",
      "display_name": "Python 3"
    },
    "language_info": {
      "name": "python"
    }
  },
  "cells": [
    {
      "cell_type": "code",
      "execution_count": null,
      "metadata": {
        "colab": {
          "base_uri": "https://localhost:8080/"
        },
        "id": "_rtz8tAbWqPY",
        "outputId": "5b026a2c-5f25-457e-ddb5-cba76d7eb3a0"
      },
      "outputs": [
        {
          "output_type": "stream",
          "name": "stdout",
          "text": [
            "Mounted at /content/drive/\n"
          ]
        }
      ],
      "source": [
        "from google.colab import drive\n",
        "drive.mount('/content/drive/',force_remount=False)\n",
        "import os\n",
        "os.chdir(\"/content/drive/MyDrive/Python\")"
      ]
    },
    {
      "cell_type": "code",
      "execution_count": null,
      "metadata": {
        "id": "YGp9q_BaWwfn"
      },
      "outputs": [],
      "source": [
        "import pandas\n",
        "import mba263\n",
        "import matplotlib.pyplot as plt\n",
        "import numpy"
      ]
    },
    {
      "cell_type": "markdown",
      "metadata": {
        "id": "dIBvFfubWwfr"
      },
      "source": [
        "Bring in data on Clinton impeachment votes"
      ]
    },
    {
      "cell_type": "code",
      "execution_count": null,
      "metadata": {
        "id": "mJviCQHuWwfs"
      },
      "outputs": [],
      "source": [
        "data = pandas.read_csv('cell2cell.csv')"
      ]
    },
    {
      "cell_type": "code",
      "execution_count": null,
      "metadata": {
        "id": "zxhvULJxWwft",
        "outputId": "eaad01f2-ee7a-4d86-d44e-40b23b1792f8",
        "colab": {
          "base_uri": "https://localhost:8080/",
          "height": 424
        }
      },
      "outputs": [
        {
          "output_type": "execute_result",
          "data": {
            "text/plain": [
              "       customer  calibrat  churn  churndep     revenue      mou   recchrge  \\\n",
              "0       1000002         0      0       NaN   57.492500   482.75  37.424999   \n",
              "1       1000006         0      0       NaN   82.275002  1312.25  75.000000   \n",
              "2       1000010         0      0       NaN   31.662500    25.50  29.990000   \n",
              "3       1000011         0      0       NaN   62.127499    97.50  65.985001   \n",
              "4       1000014         0      0       NaN   25.225000     2.50  25.000000   \n",
              "...         ...       ...    ...       ...         ...      ...        ...   \n",
              "71042   1099987         1      1       1.0  117.490000   384.00  29.990000   \n",
              "71043   1099988         1      1       1.0         NaN      NaN        NaN   \n",
              "71044   1099990         1      1       1.0         NaN      NaN        NaN   \n",
              "71045   1099992         1      1       1.0         NaN      NaN        NaN   \n",
              "71046   1099995         1      1       1.0         NaN      NaN        NaN   \n",
              "\n",
              "       directas  overage  roam  ...  retaccpt  newcelly  newcelln  refer  \\\n",
              "0        0.2475    22.75   0.0  ...         0         0         1      0   \n",
              "1        1.2375     0.00   0.0  ...         0         1         0      0   \n",
              "2        0.2475     0.00   0.0  ...         0         0         1      0   \n",
              "3        2.4750     0.00   0.0  ...         0         1         0      0   \n",
              "4        0.0000     0.00   0.0  ...         0         1         0      0   \n",
              "...         ...      ...   ...  ...       ...       ...       ...    ...   \n",
              "71042    0.0000   250.00   0.0  ...         0         0         0      0   \n",
              "71043       NaN      NaN   NaN  ...         0         0         0      0   \n",
              "71044       NaN      NaN   NaN  ...         0         0         0      0   \n",
              "71045       NaN      NaN   NaN  ...         0         1         0      0   \n",
              "71046       NaN      NaN   NaN  ...         0         0         0      0   \n",
              "\n",
              "       incmiss  income  mcycle  setprcm      setprc  retcall  \n",
              "0            0       5       0        0  149.989990        0  \n",
              "1            0       6       0        0    9.989998        0  \n",
              "2            0       9       0        0   29.989990        0  \n",
              "3            0       6       0        0   29.989990        0  \n",
              "4            0       7       0        0   29.989990        0  \n",
              "...        ...     ...     ...      ...         ...      ...  \n",
              "71042        0       2       0        0   29.989990        0  \n",
              "71043        0       6       0        1    0.000000        0  \n",
              "71044        0       6       0        0   59.989990        0  \n",
              "71045        0       8       0        1    0.000000        0  \n",
              "71046        0       7       0        0   79.989990        0  \n",
              "\n",
              "[71047 rows x 70 columns]"
            ],
            "text/html": [
              "\n",
              "  <div id=\"df-7aa0951d-1cf1-45d7-840a-22a547ad03af\">\n",
              "    <div class=\"colab-df-container\">\n",
              "      <div>\n",
              "<style scoped>\n",
              "    .dataframe tbody tr th:only-of-type {\n",
              "        vertical-align: middle;\n",
              "    }\n",
              "\n",
              "    .dataframe tbody tr th {\n",
              "        vertical-align: top;\n",
              "    }\n",
              "\n",
              "    .dataframe thead th {\n",
              "        text-align: right;\n",
              "    }\n",
              "</style>\n",
              "<table border=\"1\" class=\"dataframe\">\n",
              "  <thead>\n",
              "    <tr style=\"text-align: right;\">\n",
              "      <th></th>\n",
              "      <th>customer</th>\n",
              "      <th>calibrat</th>\n",
              "      <th>churn</th>\n",
              "      <th>churndep</th>\n",
              "      <th>revenue</th>\n",
              "      <th>mou</th>\n",
              "      <th>recchrge</th>\n",
              "      <th>directas</th>\n",
              "      <th>overage</th>\n",
              "      <th>roam</th>\n",
              "      <th>...</th>\n",
              "      <th>retaccpt</th>\n",
              "      <th>newcelly</th>\n",
              "      <th>newcelln</th>\n",
              "      <th>refer</th>\n",
              "      <th>incmiss</th>\n",
              "      <th>income</th>\n",
              "      <th>mcycle</th>\n",
              "      <th>setprcm</th>\n",
              "      <th>setprc</th>\n",
              "      <th>retcall</th>\n",
              "    </tr>\n",
              "  </thead>\n",
              "  <tbody>\n",
              "    <tr>\n",
              "      <th>0</th>\n",
              "      <td>1000002</td>\n",
              "      <td>0</td>\n",
              "      <td>0</td>\n",
              "      <td>NaN</td>\n",
              "      <td>57.492500</td>\n",
              "      <td>482.75</td>\n",
              "      <td>37.424999</td>\n",
              "      <td>0.2475</td>\n",
              "      <td>22.75</td>\n",
              "      <td>0.0</td>\n",
              "      <td>...</td>\n",
              "      <td>0</td>\n",
              "      <td>0</td>\n",
              "      <td>1</td>\n",
              "      <td>0</td>\n",
              "      <td>0</td>\n",
              "      <td>5</td>\n",
              "      <td>0</td>\n",
              "      <td>0</td>\n",
              "      <td>149.989990</td>\n",
              "      <td>0</td>\n",
              "    </tr>\n",
              "    <tr>\n",
              "      <th>1</th>\n",
              "      <td>1000006</td>\n",
              "      <td>0</td>\n",
              "      <td>0</td>\n",
              "      <td>NaN</td>\n",
              "      <td>82.275002</td>\n",
              "      <td>1312.25</td>\n",
              "      <td>75.000000</td>\n",
              "      <td>1.2375</td>\n",
              "      <td>0.00</td>\n",
              "      <td>0.0</td>\n",
              "      <td>...</td>\n",
              "      <td>0</td>\n",
              "      <td>1</td>\n",
              "      <td>0</td>\n",
              "      <td>0</td>\n",
              "      <td>0</td>\n",
              "      <td>6</td>\n",
              "      <td>0</td>\n",
              "      <td>0</td>\n",
              "      <td>9.989998</td>\n",
              "      <td>0</td>\n",
              "    </tr>\n",
              "    <tr>\n",
              "      <th>2</th>\n",
              "      <td>1000010</td>\n",
              "      <td>0</td>\n",
              "      <td>0</td>\n",
              "      <td>NaN</td>\n",
              "      <td>31.662500</td>\n",
              "      <td>25.50</td>\n",
              "      <td>29.990000</td>\n",
              "      <td>0.2475</td>\n",
              "      <td>0.00</td>\n",
              "      <td>0.0</td>\n",
              "      <td>...</td>\n",
              "      <td>0</td>\n",
              "      <td>0</td>\n",
              "      <td>1</td>\n",
              "      <td>0</td>\n",
              "      <td>0</td>\n",
              "      <td>9</td>\n",
              "      <td>0</td>\n",
              "      <td>0</td>\n",
              "      <td>29.989990</td>\n",
              "      <td>0</td>\n",
              "    </tr>\n",
              "    <tr>\n",
              "      <th>3</th>\n",
              "      <td>1000011</td>\n",
              "      <td>0</td>\n",
              "      <td>0</td>\n",
              "      <td>NaN</td>\n",
              "      <td>62.127499</td>\n",
              "      <td>97.50</td>\n",
              "      <td>65.985001</td>\n",
              "      <td>2.4750</td>\n",
              "      <td>0.00</td>\n",
              "      <td>0.0</td>\n",
              "      <td>...</td>\n",
              "      <td>0</td>\n",
              "      <td>1</td>\n",
              "      <td>0</td>\n",
              "      <td>0</td>\n",
              "      <td>0</td>\n",
              "      <td>6</td>\n",
              "      <td>0</td>\n",
              "      <td>0</td>\n",
              "      <td>29.989990</td>\n",
              "      <td>0</td>\n",
              "    </tr>\n",
              "    <tr>\n",
              "      <th>4</th>\n",
              "      <td>1000014</td>\n",
              "      <td>0</td>\n",
              "      <td>0</td>\n",
              "      <td>NaN</td>\n",
              "      <td>25.225000</td>\n",
              "      <td>2.50</td>\n",
              "      <td>25.000000</td>\n",
              "      <td>0.0000</td>\n",
              "      <td>0.00</td>\n",
              "      <td>0.0</td>\n",
              "      <td>...</td>\n",
              "      <td>0</td>\n",
              "      <td>1</td>\n",
              "      <td>0</td>\n",
              "      <td>0</td>\n",
              "      <td>0</td>\n",
              "      <td>7</td>\n",
              "      <td>0</td>\n",
              "      <td>0</td>\n",
              "      <td>29.989990</td>\n",
              "      <td>0</td>\n",
              "    </tr>\n",
              "    <tr>\n",
              "      <th>...</th>\n",
              "      <td>...</td>\n",
              "      <td>...</td>\n",
              "      <td>...</td>\n",
              "      <td>...</td>\n",
              "      <td>...</td>\n",
              "      <td>...</td>\n",
              "      <td>...</td>\n",
              "      <td>...</td>\n",
              "      <td>...</td>\n",
              "      <td>...</td>\n",
              "      <td>...</td>\n",
              "      <td>...</td>\n",
              "      <td>...</td>\n",
              "      <td>...</td>\n",
              "      <td>...</td>\n",
              "      <td>...</td>\n",
              "      <td>...</td>\n",
              "      <td>...</td>\n",
              "      <td>...</td>\n",
              "      <td>...</td>\n",
              "      <td>...</td>\n",
              "    </tr>\n",
              "    <tr>\n",
              "      <th>71042</th>\n",
              "      <td>1099987</td>\n",
              "      <td>1</td>\n",
              "      <td>1</td>\n",
              "      <td>1.0</td>\n",
              "      <td>117.490000</td>\n",
              "      <td>384.00</td>\n",
              "      <td>29.990000</td>\n",
              "      <td>0.0000</td>\n",
              "      <td>250.00</td>\n",
              "      <td>0.0</td>\n",
              "      <td>...</td>\n",
              "      <td>0</td>\n",
              "      <td>0</td>\n",
              "      <td>0</td>\n",
              "      <td>0</td>\n",
              "      <td>0</td>\n",
              "      <td>2</td>\n",
              "      <td>0</td>\n",
              "      <td>0</td>\n",
              "      <td>29.989990</td>\n",
              "      <td>0</td>\n",
              "    </tr>\n",
              "    <tr>\n",
              "      <th>71043</th>\n",
              "      <td>1099988</td>\n",
              "      <td>1</td>\n",
              "      <td>1</td>\n",
              "      <td>1.0</td>\n",
              "      <td>NaN</td>\n",
              "      <td>NaN</td>\n",
              "      <td>NaN</td>\n",
              "      <td>NaN</td>\n",
              "      <td>NaN</td>\n",
              "      <td>NaN</td>\n",
              "      <td>...</td>\n",
              "      <td>0</td>\n",
              "      <td>0</td>\n",
              "      <td>0</td>\n",
              "      <td>0</td>\n",
              "      <td>0</td>\n",
              "      <td>6</td>\n",
              "      <td>0</td>\n",
              "      <td>1</td>\n",
              "      <td>0.000000</td>\n",
              "      <td>0</td>\n",
              "    </tr>\n",
              "    <tr>\n",
              "      <th>71044</th>\n",
              "      <td>1099990</td>\n",
              "      <td>1</td>\n",
              "      <td>1</td>\n",
              "      <td>1.0</td>\n",
              "      <td>NaN</td>\n",
              "      <td>NaN</td>\n",
              "      <td>NaN</td>\n",
              "      <td>NaN</td>\n",
              "      <td>NaN</td>\n",
              "      <td>NaN</td>\n",
              "      <td>...</td>\n",
              "      <td>0</td>\n",
              "      <td>0</td>\n",
              "      <td>0</td>\n",
              "      <td>0</td>\n",
              "      <td>0</td>\n",
              "      <td>6</td>\n",
              "      <td>0</td>\n",
              "      <td>0</td>\n",
              "      <td>59.989990</td>\n",
              "      <td>0</td>\n",
              "    </tr>\n",
              "    <tr>\n",
              "      <th>71045</th>\n",
              "      <td>1099992</td>\n",
              "      <td>1</td>\n",
              "      <td>1</td>\n",
              "      <td>1.0</td>\n",
              "      <td>NaN</td>\n",
              "      <td>NaN</td>\n",
              "      <td>NaN</td>\n",
              "      <td>NaN</td>\n",
              "      <td>NaN</td>\n",
              "      <td>NaN</td>\n",
              "      <td>...</td>\n",
              "      <td>0</td>\n",
              "      <td>1</td>\n",
              "      <td>0</td>\n",
              "      <td>0</td>\n",
              "      <td>0</td>\n",
              "      <td>8</td>\n",
              "      <td>0</td>\n",
              "      <td>1</td>\n",
              "      <td>0.000000</td>\n",
              "      <td>0</td>\n",
              "    </tr>\n",
              "    <tr>\n",
              "      <th>71046</th>\n",
              "      <td>1099995</td>\n",
              "      <td>1</td>\n",
              "      <td>1</td>\n",
              "      <td>1.0</td>\n",
              "      <td>NaN</td>\n",
              "      <td>NaN</td>\n",
              "      <td>NaN</td>\n",
              "      <td>NaN</td>\n",
              "      <td>NaN</td>\n",
              "      <td>NaN</td>\n",
              "      <td>...</td>\n",
              "      <td>0</td>\n",
              "      <td>0</td>\n",
              "      <td>0</td>\n",
              "      <td>0</td>\n",
              "      <td>0</td>\n",
              "      <td>7</td>\n",
              "      <td>0</td>\n",
              "      <td>0</td>\n",
              "      <td>79.989990</td>\n",
              "      <td>0</td>\n",
              "    </tr>\n",
              "  </tbody>\n",
              "</table>\n",
              "<p>71047 rows × 70 columns</p>\n",
              "</div>\n",
              "      <button class=\"colab-df-convert\" onclick=\"convertToInteractive('df-7aa0951d-1cf1-45d7-840a-22a547ad03af')\"\n",
              "              title=\"Convert this dataframe to an interactive table.\"\n",
              "              style=\"display:none;\">\n",
              "        \n",
              "  <svg xmlns=\"http://www.w3.org/2000/svg\" height=\"24px\"viewBox=\"0 0 24 24\"\n",
              "       width=\"24px\">\n",
              "    <path d=\"M0 0h24v24H0V0z\" fill=\"none\"/>\n",
              "    <path d=\"M18.56 5.44l.94 2.06.94-2.06 2.06-.94-2.06-.94-.94-2.06-.94 2.06-2.06.94zm-11 1L8.5 8.5l.94-2.06 2.06-.94-2.06-.94L8.5 2.5l-.94 2.06-2.06.94zm10 10l.94 2.06.94-2.06 2.06-.94-2.06-.94-.94-2.06-.94 2.06-2.06.94z\"/><path d=\"M17.41 7.96l-1.37-1.37c-.4-.4-.92-.59-1.43-.59-.52 0-1.04.2-1.43.59L10.3 9.45l-7.72 7.72c-.78.78-.78 2.05 0 2.83L4 21.41c.39.39.9.59 1.41.59.51 0 1.02-.2 1.41-.59l7.78-7.78 2.81-2.81c.8-.78.8-2.07 0-2.86zM5.41 20L4 18.59l7.72-7.72 1.47 1.35L5.41 20z\"/>\n",
              "  </svg>\n",
              "      </button>\n",
              "      \n",
              "  <style>\n",
              "    .colab-df-container {\n",
              "      display:flex;\n",
              "      flex-wrap:wrap;\n",
              "      gap: 12px;\n",
              "    }\n",
              "\n",
              "    .colab-df-convert {\n",
              "      background-color: #E8F0FE;\n",
              "      border: none;\n",
              "      border-radius: 50%;\n",
              "      cursor: pointer;\n",
              "      display: none;\n",
              "      fill: #1967D2;\n",
              "      height: 32px;\n",
              "      padding: 0 0 0 0;\n",
              "      width: 32px;\n",
              "    }\n",
              "\n",
              "    .colab-df-convert:hover {\n",
              "      background-color: #E2EBFA;\n",
              "      box-shadow: 0px 1px 2px rgba(60, 64, 67, 0.3), 0px 1px 3px 1px rgba(60, 64, 67, 0.15);\n",
              "      fill: #174EA6;\n",
              "    }\n",
              "\n",
              "    [theme=dark] .colab-df-convert {\n",
              "      background-color: #3B4455;\n",
              "      fill: #D2E3FC;\n",
              "    }\n",
              "\n",
              "    [theme=dark] .colab-df-convert:hover {\n",
              "      background-color: #434B5C;\n",
              "      box-shadow: 0px 1px 3px 1px rgba(0, 0, 0, 0.15);\n",
              "      filter: drop-shadow(0px 1px 2px rgba(0, 0, 0, 0.3));\n",
              "      fill: #FFFFFF;\n",
              "    }\n",
              "  </style>\n",
              "\n",
              "      <script>\n",
              "        const buttonEl =\n",
              "          document.querySelector('#df-7aa0951d-1cf1-45d7-840a-22a547ad03af button.colab-df-convert');\n",
              "        buttonEl.style.display =\n",
              "          google.colab.kernel.accessAllowed ? 'block' : 'none';\n",
              "\n",
              "        async function convertToInteractive(key) {\n",
              "          const element = document.querySelector('#df-7aa0951d-1cf1-45d7-840a-22a547ad03af');\n",
              "          const dataTable =\n",
              "            await google.colab.kernel.invokeFunction('convertToInteractive',\n",
              "                                                     [key], {});\n",
              "          if (!dataTable) return;\n",
              "\n",
              "          const docLinkHtml = 'Like what you see? Visit the ' +\n",
              "            '<a target=\"_blank\" href=https://colab.research.google.com/notebooks/data_table.ipynb>data table notebook</a>'\n",
              "            + ' to learn more about interactive tables.';\n",
              "          element.innerHTML = '';\n",
              "          dataTable['output_type'] = 'display_data';\n",
              "          await google.colab.output.renderOutput(dataTable, element);\n",
              "          const docLink = document.createElement('div');\n",
              "          docLink.innerHTML = docLinkHtml;\n",
              "          element.appendChild(docLink);\n",
              "        }\n",
              "      </script>\n",
              "    </div>\n",
              "  </div>\n",
              "  "
            ]
          },
          "metadata": {},
          "execution_count": 4
        }
      ],
      "source": [
        "data"
      ]
    },
    {
      "cell_type": "code",
      "source": [
        "data.columns"
      ],
      "metadata": {
        "colab": {
          "base_uri": "https://localhost:8080/"
        },
        "id": "0NsK3PSvgERV",
        "outputId": "2af9a6a8-9ddf-4b56-9593-adefa3fc52a4"
      },
      "execution_count": null,
      "outputs": [
        {
          "output_type": "execute_result",
          "data": {
            "text/plain": [
              "Index(['customer', 'calibrat', 'churn', 'churndep', 'revenue', 'mou',\n",
              "       'recchrge', 'directas', 'overage', 'roam', 'changem', 'changer',\n",
              "       'dropvce', 'blckvce', 'unansvce', 'custcare', 'threeway', 'mourec',\n",
              "       'outcalls', 'incalls', 'peakvce', 'opeakvce', 'dropblk', 'callfwdv',\n",
              "       'callwait', 'months', 'uniqsubs', 'actvsubs', 'phones', 'models',\n",
              "       'eqpdays', 'age1', 'age2', 'children', 'credita', 'creditaa',\n",
              "       'prizmrur', 'prizmub', 'prizmtwn', 'refurb', 'webcap', 'truck', 'rv',\n",
              "       'occprof', 'occcler', 'occcrft', 'occstud', 'occhmkr', 'occret',\n",
              "       'occself', 'ownrent', 'marryun', 'marryyes', 'mailord', 'mailres',\n",
              "       'mailflag', 'travel', 'pcown', 'creditcd', 'retcalls', 'retaccpt',\n",
              "       'newcelly', 'newcelln', 'refer', 'incmiss', 'income', 'mcycle',\n",
              "       'setprcm', 'setprc', 'retcall'],\n",
              "      dtype='object')"
            ]
          },
          "metadata": {},
          "execution_count": 5
        }
      ]
    },
    {
      "cell_type": "code",
      "source": [
        "data[ ['churndep', 'revenue', 'mou', 'recchrge', 'directas', 'overage', 'roam', 'changem', 'changer', 'dropvce', 'blckvce', 'unansvce', 'custcare', 'threeway', 'mourec',\n",
        "       'outcalls', 'incalls', 'peakvce', 'opeakvce', 'dropblk', 'callfwdv', 'callwait', 'months', 'uniqsubs', 'actvsubs', 'phones', 'models',\n",
        "       'eqpdays', 'age1', 'age2', 'children', 'credita', 'creditaa', 'prizmrur', 'prizmub', 'prizmtwn', 'refurb', 'webcap', 'truck', 'rv',\n",
        "       'occprof', 'occcler', 'occcrft', 'occstud', 'occhmkr', 'occret'] ].corr()['churndep'].plot.bar()"
      ],
      "metadata": {
        "colab": {
          "base_uri": "https://localhost:8080/",
          "height": 500
        },
        "id": "kFk0bTJCJe_-",
        "outputId": "d977c0ff-0c53-4728-e804-c4987f26716e"
      },
      "execution_count": null,
      "outputs": [
        {
          "output_type": "execute_result",
          "data": {
            "text/plain": [
              "<Axes: >"
            ]
          },
          "metadata": {},
          "execution_count": 6
        },
        {
          "output_type": "display_data",
          "data": {
            "text/plain": [
              "<Figure size 640x480 with 1 Axes>"
            ],
            "image/png": "[encoded data removed]"
          },
          "metadata": {}
        }
      ]
    },
    {
      "cell_type": "code",
      "source": [
        "data[ ['churndep', 'occself', 'ownrent', 'marryun', 'marryyes', 'mailord', 'mailres', 'revenue', 'mou', 'recchrge', 'directas', 'overage', 'roam', 'changem', 'changer', 'dropvce', 'blckvce', 'unansvce', 'custcare', 'threeway', 'mourec',\n",
        "       'outcalls', 'incalls', 'peakvce', 'opeakvce', 'dropblk', 'callfwdv', 'callwait', 'months', 'uniqsubs', 'actvsubs', 'phones', 'models',\n",
        "       'mailflag', 'travel', 'pcown', 'creditcd', 'retcalls', 'retaccpt',\n",
        "       'newcelly', 'newcelln', 'refer', 'incmiss', 'income', 'mcycle',\n",
        "       'setprcm', 'setprc', 'retcall'] ].corr()['churndep'].plot.bar()"
      ],
      "metadata": {
        "colab": {
          "base_uri": "https://localhost:8080/",
          "height": 500
        },
        "id": "TkA0-SLpiQdx",
        "outputId": "6ecda0e3-9e63-4792-b134-d2c4c31fd032"
      },
      "execution_count": null,
      "outputs": [
        {
          "output_type": "execute_result",
          "data": {
            "text/plain": [
              "<Axes: >"
            ]
          },
          "metadata": {},
          "execution_count": 7
        },
        {
          "output_type": "display_data",
          "data": {
            "text/plain": [
              "<Figure size 640x480 with 1 Axes>"
            ],
            "image/png": "[encoded data removed]"
          },
          "metadata": {}
        }
      ]
    },
    {
      "cell_type": "code",
      "source": [
        "varlist = ['revenue', 'recchrge','ownrent', 'marryun', 'overage', 'roam', 'months', 'uniqsubs', 'eqpdays', 'refurb', 'actvsubs','prizmrur', 'prizmtwn', 'retaccpt', 'setprcm', 'retcall']"
      ],
      "metadata": {
        "id": "ukiG70BBFu5M"
      },
      "execution_count": null,
      "outputs": []
    },
    {
      "cell_type": "code",
      "source": [
        "data = data.fillna(0)"
      ],
      "metadata": {
        "id": "JuETPH1rEO-A"
      },
      "execution_count": null,
      "outputs": []
    },
    {
      "cell_type": "code",
      "execution_count": null,
      "metadata": {
        "id": "X3RuXHEyWwfy",
        "colab": {
          "base_uri": "https://localhost:8080/"
        },
        "outputId": "b9379b6f-e36e-4b62-bd76-9b4517f5a17a"
      },
      "outputs": [
        {
          "output_type": "stream",
          "name": "stdout",
          "text": [
            "Optimization terminated successfully.\n",
            "         Current function value: 0.589917\n",
            "         Iterations 5\n"
          ]
        }
      ],
      "source": [
        "result_logit = mba263.logit(data['churn'],data[ ['ownrent', 'uniqsubs','marryun', 'overage', 'roam', 'months', 'eqpdays', 'refurb', 'retcalls', 'retaccpt', 'setprcm', 'retcall'] ])"
      ]
    },
    {
      "cell_type": "markdown",
      "metadata": {
        "id": "b3GS820wWwfz"
      },
      "source": [
        "We will get a <code>.summary()</code> just like with OLS/regression results:"
      ]
    },
    {
      "cell_type": "code",
      "execution_count": null,
      "metadata": {
        "id": "baR0DB2WWwfz",
        "colab": {
          "base_uri": "https://localhost:8080/",
          "height": 487
        },
        "outputId": "941eb736-fcdb-49d0-86a2-e0b05ebbbdb7"
      },
      "outputs": [
        {
          "output_type": "execute_result",
          "data": {
            "text/plain": [
              "<class 'statsmodels.iolib.summary.Summary'>\n",
              "\"\"\"\n",
              "                        Mba263Logit Regression Results                        \n",
              "==============================================================================\n",
              "Dep. Variable:                  churn   No. Observations:                71047\n",
              "Model:                    Mba263Logit   Df Residuals:                    71034\n",
              "Method:                           MLE   Df Model:                           12\n",
              "Date:                Tue, 11 Apr 2023   Pseudo R-squ.:                 0.02043\n",
              "Time:                        00:44:03   Log-Likelihood:                -41912.\n",
              "converged:                       True   LL-Null:                       -42786.\n",
              "Covariance Type:            nonrobust   LLR p-value:                     0.000\n",
              "==============================================================================\n",
              "                 coef    std err          z      P>|z|      [0.025      0.975]\n",
              "------------------------------------------------------------------------------\n",
              "const         -1.3696      0.033    -42.140      0.000      -1.433      -1.306\n",
              "ownrent        0.0607      0.023      2.661      0.008       0.016       0.105\n",
              "uniqsubs       0.1106      0.009     11.797      0.000       0.092       0.129\n",
              "marryun        0.0852      0.022      3.877      0.000       0.042       0.128\n",
              "overage        0.0006   8.53e-05      7.064      0.000       0.000       0.001\n",
              "roam           0.0033      0.001      3.266      0.001       0.001       0.005\n",
              "months        -0.0188      0.001    -13.759      0.000      -0.021      -0.016\n",
              "eqpdays        0.0015   5.24e-05     28.655      0.000       0.001       0.002\n",
              "refurb         0.2767      0.025     10.985      0.000       0.227       0.326\n",
              "retcalls       0.3301      0.142      2.330      0.020       0.052       0.608\n",
              "retaccpt      -0.2908      0.080     -3.635      0.000      -0.448      -0.134\n",
              "setprcm       -0.1511      0.025     -5.996      0.000      -0.200      -0.102\n",
              "retcall        0.6451      0.149      4.329      0.000       0.353       0.937\n",
              "==============================================================================\n",
              "\"\"\""
            ],
            "text/html": [
              "<table class=\"simpletable\">\n",
              "<caption>Mba263Logit Regression Results</caption>\n",
              "<tr>\n",
              "  <th>Dep. Variable:</th>         <td>churn</td>      <th>  No. Observations:  </th>  <td> 71047</td> \n",
              "</tr>\n",
              "<tr>\n",
              "  <th>Model:</th>              <td>Mba263Logit</td>   <th>  Df Residuals:      </th>  <td> 71034</td> \n",
              "</tr>\n",
              "<tr>\n",
              "  <th>Method:</th>                 <td>MLE</td>       <th>  Df Model:          </th>  <td>    12</td> \n",
              "</tr>\n",
              "<tr>\n",
              "  <th>Date:</th>            <td>Tue, 11 Apr 2023</td> <th>  Pseudo R-squ.:     </th>  <td>0.02043</td>\n",
              "</tr>\n",
              "<tr>\n",
              "  <th>Time:</th>                <td>00:44:03</td>     <th>  Log-Likelihood:    </th> <td> -41912.</td>\n",
              "</tr>\n",
              "<tr>\n",
              "  <th>converged:</th>             <td>True</td>       <th>  LL-Null:           </th> <td> -42786.</td>\n",
              "</tr>\n",
              "<tr>\n",
              "  <th>Covariance Type:</th>     <td>nonrobust</td>    <th>  LLR p-value:       </th>  <td> 0.000</td> \n",
              "</tr>\n",
              "</table>\n",
              "<table class=\"simpletable\">\n",
              "<tr>\n",
              "      <td></td>        <th>coef</th>     <th>std err</th>      <th>z</th>      <th>P>|z|</th>  <th>[0.025</th>    <th>0.975]</th>  \n",
              "</tr>\n",
              "<tr>\n",
              "  <th>const</th>    <td>   -1.3696</td> <td>    0.033</td> <td>  -42.140</td> <td> 0.000</td> <td>   -1.433</td> <td>   -1.306</td>\n",
              "</tr>\n",
              "<tr>\n",
              "  <th>ownrent</th>  <td>    0.0607</td> <td>    0.023</td> <td>    2.661</td> <td> 0.008</td> <td>    0.016</td> <td>    0.105</td>\n",
              "</tr>\n",
              "<tr>\n",
              "  <th>uniqsubs</th> <td>    0.1106</td> <td>    0.009</td> <td>   11.797</td> <td> 0.000</td> <td>    0.092</td> <td>    0.129</td>\n",
              "</tr>\n",
              "<tr>\n",
              "  <th>marryun</th>  <td>    0.0852</td> <td>    0.022</td> <td>    3.877</td> <td> 0.000</td> <td>    0.042</td> <td>    0.128</td>\n",
              "</tr>\n",
              "<tr>\n",
              "  <th>overage</th>  <td>    0.0006</td> <td> 8.53e-05</td> <td>    7.064</td> <td> 0.000</td> <td>    0.000</td> <td>    0.001</td>\n",
              "</tr>\n",
              "<tr>\n",
              "  <th>roam</th>     <td>    0.0033</td> <td>    0.001</td> <td>    3.266</td> <td> 0.001</td> <td>    0.001</td> <td>    0.005</td>\n",
              "</tr>\n",
              "<tr>\n",
              "  <th>months</th>   <td>   -0.0188</td> <td>    0.001</td> <td>  -13.759</td> <td> 0.000</td> <td>   -0.021</td> <td>   -0.016</td>\n",
              "</tr>\n",
              "<tr>\n",
              "  <th>eqpdays</th>  <td>    0.0015</td> <td> 5.24e-05</td> <td>   28.655</td> <td> 0.000</td> <td>    0.001</td> <td>    0.002</td>\n",
              "</tr>\n",
              "<tr>\n",
              "  <th>refurb</th>   <td>    0.2767</td> <td>    0.025</td> <td>   10.985</td> <td> 0.000</td> <td>    0.227</td> <td>    0.326</td>\n",
              "</tr>\n",
              "<tr>\n",
              "  <th>retcalls</th> <td>    0.3301</td> <td>    0.142</td> <td>    2.330</td> <td> 0.020</td> <td>    0.052</td> <td>    0.608</td>\n",
              "</tr>\n",
              "<tr>\n",
              "  <th>retaccpt</th> <td>   -0.2908</td> <td>    0.080</td> <td>   -3.635</td> <td> 0.000</td> <td>   -0.448</td> <td>   -0.134</td>\n",
              "</tr>\n",
              "<tr>\n",
              "  <th>setprcm</th>  <td>   -0.1511</td> <td>    0.025</td> <td>   -5.996</td> <td> 0.000</td> <td>   -0.200</td> <td>   -0.102</td>\n",
              "</tr>\n",
              "<tr>\n",
              "  <th>retcall</th>  <td>    0.6451</td> <td>    0.149</td> <td>    4.329</td> <td> 0.000</td> <td>    0.353</td> <td>    0.937</td>\n",
              "</tr>\n",
              "</table>"
            ]
          },
          "metadata": {},
          "execution_count": 11
        }
      ],
      "source": [
        "result_logit.summary()"
      ]
    },
    {
      "cell_type": "markdown",
      "metadata": {
        "id": "Q8mkF5LtWwf0"
      },
      "source": [
        "We can also get the odds ratios for our non-constant coefficients by using <code>mba263.odds_ratios(MODELOBJECT)</code>"
      ]
    },
    {
      "cell_type": "code",
      "execution_count": null,
      "metadata": {
        "id": "80JTAbxbWwf0",
        "colab": {
          "base_uri": "https://localhost:8080/",
          "height": 426
        },
        "outputId": "40d81acc-22fd-47d3-f618-012a1b53bbf3"
      },
      "outputs": [
        {
          "output_type": "execute_result",
          "data": {
            "text/plain": [
              "          Odds ratios   std err          z  P>|z|    [0.025    0.975]\n",
              "ownrent      1.062528  0.024219   2.581797  0.010  1.015544  1.109513\n",
              "uniqsubs     1.116961  0.010473  11.167640  0.000  1.096643  1.137280\n",
              "marryun      1.088982  0.023944   3.716225  0.000  1.042530  1.135433\n",
              "overage      1.000603  0.000085   7.061942  0.000  1.000437  1.000769\n",
              "roam         1.003271  0.001003   3.260587  0.001  1.001325  1.005217\n",
              "months       0.981414  0.001338  13.889217  0.000  0.978818  0.984010\n",
              "eqpdays      1.001503  0.000052  28.633249  0.000  1.001401  1.001605\n",
              "refurb       1.318708  0.033211   9.596338  0.000  1.254278  1.383138\n",
              "retcalls     1.391101  0.197049   1.984793  0.047  1.008826  1.773376\n",
              "retaccpt     0.747631  0.059816   4.219105  0.000  0.631589  0.863674\n",
              "setprcm      0.859762  0.021666   6.472626  0.000  0.817729  0.901795\n",
              "retcall      1.906160  0.284065   3.189969  0.001  1.355073  2.457247"
            ],
            "text/html": [
              "\n",
              "  <div id=\"df-84ba37db-abaf-4af2-96b4-d2dbfce3280c\">\n",
              "    <div class=\"colab-df-container\">\n",
              "      <div>\n",
              "<style scoped>\n",
              "    .dataframe tbody tr th:only-of-type {\n",
              "        vertical-align: middle;\n",
              "    }\n",
              "\n",
              "    .dataframe tbody tr th {\n",
              "        vertical-align: top;\n",
              "    }\n",
              "\n",
              "    .dataframe thead th {\n",
              "        text-align: right;\n",
              "    }\n",
              "</style>\n",
              "<table border=\"1\" class=\"dataframe\">\n",
              "  <thead>\n",
              "    <tr style=\"text-align: right;\">\n",
              "      <th></th>\n",
              "      <th>Odds ratios</th>\n",
              "      <th>std err</th>\n",
              "      <th>z</th>\n",
              "      <th>P&gt;|z|</th>\n",
              "      <th>[0.025</th>\n",
              "      <th>0.975]</th>\n",
              "    </tr>\n",
              "  </thead>\n",
              "  <tbody>\n",
              "    <tr>\n",
              "      <th>ownrent</th>\n",
              "      <td>1.062528</td>\n",
              "      <td>0.024219</td>\n",
              "      <td>2.581797</td>\n",
              "      <td>0.010</td>\n",
              "      <td>1.015544</td>\n",
              "      <td>1.109513</td>\n",
              "    </tr>\n",
              "    <tr>\n",
              "      <th>uniqsubs</th>\n",
              "      <td>1.116961</td>\n",
              "      <td>0.010473</td>\n",
              "      <td>11.167640</td>\n",
              "      <td>0.000</td>\n",
              "      <td>1.096643</td>\n",
              "      <td>1.137280</td>\n",
              "    </tr>\n",
              "    <tr>\n",
              "      <th>marryun</th>\n",
              "      <td>1.088982</td>\n",
              "      <td>0.023944</td>\n",
              "      <td>3.716225</td>\n",
              "      <td>0.000</td>\n",
              "      <td>1.042530</td>\n",
              "      <td>1.135433</td>\n",
              "    </tr>\n",
              "    <tr>\n",
              "      <th>overage</th>\n",
              "      <td>1.000603</td>\n",
              "      <td>0.000085</td>\n",
              "      <td>7.061942</td>\n",
              "      <td>0.000</td>\n",
              "      <td>1.000437</td>\n",
              "      <td>1.000769</td>\n",
              "    </tr>\n",
              "    <tr>\n",
              "      <th>roam</th>\n",
              "      <td>1.003271</td>\n",
              "      <td>0.001003</td>\n",
              "      <td>3.260587</td>\n",
              "      <td>0.001</td>\n",
              "      <td>1.001325</td>\n",
              "      <td>1.005217</td>\n",
              "    </tr>\n",
              "    <tr>\n",
              "      <th>months</th>\n",
              "      <td>0.981414</td>\n",
              "      <td>0.001338</td>\n",
              "      <td>13.889217</td>\n",
              "      <td>0.000</td>\n",
              "      <td>0.978818</td>\n",
              "      <td>0.984010</td>\n",
              "    </tr>\n",
              "    <tr>\n",
              "      <th>eqpdays</th>\n",
              "      <td>1.001503</td>\n",
              "      <td>0.000052</td>\n",
              "      <td>28.633249</td>\n",
              "      <td>0.000</td>\n",
              "      <td>1.001401</td>\n",
              "      <td>1.001605</td>\n",
              "    </tr>\n",
              "    <tr>\n",
              "      <th>refurb</th>\n",
              "      <td>1.318708</td>\n",
              "      <td>0.033211</td>\n",
              "      <td>9.596338</td>\n",
              "      <td>0.000</td>\n",
              "      <td>1.254278</td>\n",
              "      <td>1.383138</td>\n",
              "    </tr>\n",
              "    <tr>\n",
              "      <th>retcalls</th>\n",
              "      <td>1.391101</td>\n",
              "      <td>0.197049</td>\n",
              "      <td>1.984793</td>\n",
              "      <td>0.047</td>\n",
              "      <td>1.008826</td>\n",
              "      <td>1.773376</td>\n",
              "    </tr>\n",
              "    <tr>\n",
              "      <th>retaccpt</th>\n",
              "      <td>0.747631</td>\n",
              "      <td>0.059816</td>\n",
              "      <td>4.219105</td>\n",
              "      <td>0.000</td>\n",
              "      <td>0.631589</td>\n",
              "      <td>0.863674</td>\n",
              "    </tr>\n",
              "    <tr>\n",
              "      <th>setprcm</th>\n",
              "      <td>0.859762</td>\n",
              "      <td>0.021666</td>\n",
              "      <td>6.472626</td>\n",
              "      <td>0.000</td>\n",
              "      <td>0.817729</td>\n",
              "      <td>0.901795</td>\n",
              "    </tr>\n",
              "    <tr>\n",
              "      <th>retcall</th>\n",
              "      <td>1.906160</td>\n",
              "      <td>0.284065</td>\n",
              "      <td>3.189969</td>\n",
              "      <td>0.001</td>\n",
              "      <td>1.355073</td>\n",
              "      <td>2.457247</td>\n",
              "    </tr>\n",
              "  </tbody>\n",
              "</table>\n",
              "</div>\n",
              "      <button class=\"colab-df-convert\" onclick=\"convertToInteractive('df-84ba37db-abaf-4af2-96b4-d2dbfce3280c')\"\n",
              "              title=\"Convert this dataframe to an interactive table.\"\n",
              "              style=\"display:none;\">\n",
              "        \n",
              "  <svg xmlns=\"http://www.w3.org/2000/svg\" height=\"24px\"viewBox=\"0 0 24 24\"\n",
              "       width=\"24px\">\n",
              "    <path d=\"M0 0h24v24H0V0z\" fill=\"none\"/>\n",
              "    <path d=\"M18.56 5.44l.94 2.06.94-2.06 2.06-.94-2.06-.94-.94-2.06-.94 2.06-2.06.94zm-11 1L8.5 8.5l.94-2.06 2.06-.94-2.06-.94L8.5 2.5l-.94 2.06-2.06.94zm10 10l.94 2.06.94-2.06 2.06-.94-2.06-.94-.94-2.06-.94 2.06-2.06.94z\"/><path d=\"M17.41 7.96l-1.37-1.37c-.4-.4-.92-.59-1.43-.59-.52 0-1.04.2-1.43.59L10.3 9.45l-7.72 7.72c-.78.78-.78 2.05 0 2.83L4 21.41c.39.39.9.59 1.41.59.51 0 1.02-.2 1.41-.59l7.78-7.78 2.81-2.81c.8-.78.8-2.07 0-2.86zM5.41 20L4 18.59l7.72-7.72 1.47 1.35L5.41 20z\"/>\n",
              "  </svg>\n",
              "      </button>\n",
              "      \n",
              "  <style>\n",
              "    .colab-df-container {\n",
              "      display:flex;\n",
              "      flex-wrap:wrap;\n",
              "      gap: 12px;\n",
              "    }\n",
              "\n",
              "    .colab-df-convert {\n",
              "      background-color: #E8F0FE;\n",
              "      border: none;\n",
              "      border-radius: 50%;\n",
              "      cursor: pointer;\n",
              "      display: none;\n",
              "      fill: #1967D2;\n",
              "      height: 32px;\n",
              "      padding: 0 0 0 0;\n",
              "      width: 32px;\n",
              "    }\n",
              "\n",
              "    .colab-df-convert:hover {\n",
              "      background-color: #E2EBFA;\n",
              "      box-shadow: 0px 1px 2px rgba(60, 64, 67, 0.3), 0px 1px 3px 1px rgba(60, 64, 67, 0.15);\n",
              "      fill: #174EA6;\n",
              "    }\n",
              "\n",
              "    [theme=dark] .colab-df-convert {\n",
              "      background-color: #3B4455;\n",
              "      fill: #D2E3FC;\n",
              "    }\n",
              "\n",
              "    [theme=dark] .colab-df-convert:hover {\n",
              "      background-color: #434B5C;\n",
              "      box-shadow: 0px 1px 3px 1px rgba(0, 0, 0, 0.15);\n",
              "      filter: drop-shadow(0px 1px 2px rgba(0, 0, 0, 0.3));\n",
              "      fill: #FFFFFF;\n",
              "    }\n",
              "  </style>\n",
              "\n",
              "      <script>\n",
              "        const buttonEl =\n",
              "          document.querySelector('#df-84ba37db-abaf-4af2-96b4-d2dbfce3280c button.colab-df-convert');\n",
              "        buttonEl.style.display =\n",
              "          google.colab.kernel.accessAllowed ? 'block' : 'none';\n",
              "\n",
              "        async function convertToInteractive(key) {\n",
              "          const element = document.querySelector('#df-84ba37db-abaf-4af2-96b4-d2dbfce3280c');\n",
              "          const dataTable =\n",
              "            await google.colab.kernel.invokeFunction('convertToInteractive',\n",
              "                                                     [key], {});\n",
              "          if (!dataTable) return;\n",
              "\n",
              "          const docLinkHtml = 'Like what you see? Visit the ' +\n",
              "            '<a target=\"_blank\" href=https://colab.research.google.com/notebooks/data_table.ipynb>data table notebook</a>'\n",
              "            + ' to learn more about interactive tables.';\n",
              "          element.innerHTML = '';\n",
              "          dataTable['output_type'] = 'display_data';\n",
              "          await google.colab.output.renderOutput(dataTable, element);\n",
              "          const docLink = document.createElement('div');\n",
              "          docLink.innerHTML = docLinkHtml;\n",
              "          element.appendChild(docLink);\n",
              "        }\n",
              "      </script>\n",
              "    </div>\n",
              "  </div>\n",
              "  "
            ]
          },
          "metadata": {},
          "execution_count": 12
        }
      ],
      "source": [
        "mba263.odds_ratios(result_logit)"
      ]
    },
    {
      "cell_type": "markdown",
      "metadata": {
        "id": "Teu9D0aeWwf1"
      },
      "source": [
        "We will store the predicted values of the model using <code>MODELOBJECT.predict()</code>, which tells us the <i> fitted values</i> by default - what the model predicts for the data we actually gave it.\n",
        "\n",
        "(note - we can also use this \"out of sample\" on new data - will do this later to predict)"
      ]
    },
    {
      "cell_type": "code",
      "execution_count": null,
      "metadata": {
        "id": "QpeCGjVXWwf1"
      },
      "outputs": [],
      "source": [
        "data['predicted']=result_logit.predict()"
      ]
    },
    {
      "cell_type": "code",
      "execution_count": null,
      "metadata": {
        "id": "iS2HpM51Wwf2",
        "colab": {
          "base_uri": "https://localhost:8080/"
        },
        "outputId": "b1132e9a-8bd6-489c-c2f9-51f00ec83fa8"
      },
      "outputs": [
        {
          "output_type": "execute_result",
          "data": {
            "text/plain": [
              "0        0.132992\n",
              "1        0.172595\n",
              "2        0.211646\n",
              "3        0.173886\n",
              "4        0.187688\n",
              "           ...   \n",
              "71042    0.281583\n",
              "71043    0.327822\n",
              "71044    0.323802\n",
              "71045    0.341323\n",
              "71046    0.238619\n",
              "Name: predicted, Length: 71047, dtype: float64"
            ]
          },
          "metadata": {},
          "execution_count": 14
        }
      ],
      "source": [
        "data['predicted']"
      ]
    },
    {
      "cell_type": "code",
      "source": [
        "data_calibration = data[data['calibrat'] == 1]"
      ],
      "metadata": {
        "id": "cnk2HY5FFl2c"
      },
      "execution_count": null,
      "outputs": []
    },
    {
      "cell_type": "code",
      "source": [
        "data_validation = data[data['calibrat'] == 0]"
      ],
      "metadata": {
        "id": "Hl90rlFsIQvd"
      },
      "execution_count": null,
      "outputs": []
    },
    {
      "cell_type": "code",
      "source": [
        "data_calibration['churn'].mean()"
      ],
      "metadata": {
        "colab": {
          "base_uri": "https://localhost:8080/"
        },
        "id": "IzPLCQqJJC0Z",
        "outputId": "9a8fddad-fd79-4d3c-81c5-fb703f7a7a99"
      },
      "execution_count": null,
      "outputs": [
        {
          "output_type": "execute_result",
          "data": {
            "text/plain": [
              "0.5"
            ]
          },
          "metadata": {},
          "execution_count": 17
        }
      ]
    },
    {
      "cell_type": "code",
      "source": [
        "data_validation['churn'].mean()"
      ],
      "metadata": {
        "colab": {
          "base_uri": "https://localhost:8080/"
        },
        "id": "Shr3Jfw9JJVd",
        "outputId": "79f2cf22-0a9f-4725-f8ef-98bf44877cbb"
      },
      "execution_count": null,
      "outputs": [
        {
          "output_type": "execute_result",
          "data": {
            "text/plain": [
              "0.019615421779882115"
            ]
          },
          "metadata": {},
          "execution_count": 18
        }
      ]
    },
    {
      "cell_type": "code",
      "source": [
        "res = mba263.logit(data_calibration['churn'],data_calibration[varlist])"
      ],
      "metadata": {
        "colab": {
          "base_uri": "https://localhost:8080/"
        },
        "id": "0uWmaJzAJQ3E",
        "outputId": "c12cc05d-0d76-4e9f-fae4-89b1e6b3ea83"
      },
      "execution_count": null,
      "outputs": [
        {
          "output_type": "stream",
          "name": "stdout",
          "text": [
            "Optimization terminated successfully.\n",
            "         Current function value: 0.676566\n",
            "         Iterations 5\n"
          ]
        }
      ]
    },
    {
      "cell_type": "code",
      "source": [
        "data_calibration['predchurn']=res.predict(data_calibration[varlist])\n",
        "data_calibration['predchurn'].head(10)"
      ],
      "metadata": {
        "colab": {
          "base_uri": "https://localhost:8080/"
        },
        "id": "fqHKNR24Jk6C",
        "outputId": "5df7e957-72a0-4ee2-9aab-0ee01af13b84"
      },
      "execution_count": null,
      "outputs": [
        {
          "output_type": "execute_result",
          "data": {
            "text/plain": [
              "31047    0.766896\n",
              "31048    0.291816\n",
              "31049    0.262915\n",
              "31050    0.471877\n",
              "31051    0.388160\n",
              "31052    0.290574\n",
              "31053    0.385105\n",
              "31054    0.426105\n",
              "31055    0.266936\n",
              "31056    0.425371\n",
              "Name: predchurn, dtype: float64"
            ]
          },
          "metadata": {},
          "execution_count": 20
        }
      ]
    },
    {
      "cell_type": "code",
      "source": [
        "data_calibration['grading']=10-mba263.ntile(data_calibration['predchurn'],10)"
      ],
      "metadata": {
        "id": "IBMCob2SJ1sJ"
      },
      "execution_count": null,
      "outputs": []
    },
    {
      "cell_type": "code",
      "source": [
        "data_calibration[ ['grading','churn'] ].groupby('grading').mean().plot(kind='bar')"
      ],
      "metadata": {
        "colab": {
          "base_uri": "https://localhost:8080/",
          "height": 470
        },
        "id": "uV50aIZlJ8wL",
        "outputId": "8c05b12f-579b-425a-b344-fa3c16c41d10"
      },
      "execution_count": null,
      "outputs": [
        {
          "output_type": "execute_result",
          "data": {
            "text/plain": [
              "<Axes: xlabel='grading'>"
            ]
          },
          "metadata": {},
          "execution_count": 22
        },
        {
          "output_type": "display_data",
          "data": {
            "text/plain": [
              "<Figure size 640x480 with 1 Axes>"
            ],
            "image/png": "[encoded data removed]"
          },
          "metadata": {}
        }
      ]
    },
    {
      "cell_type": "code",
      "source": [
        "data_validation['predchurn']=res.predict(data_validation[varlist])"
      ],
      "metadata": {
        "id": "2PiAnxcWKAWP"
      },
      "execution_count": null,
      "outputs": []
    },
    {
      "cell_type": "code",
      "source": [
        "data_validation['predchurn'].head(10)"
      ],
      "metadata": {
        "colab": {
          "base_uri": "https://localhost:8080/"
        },
        "id": "f5wBdWIqLP1X",
        "outputId": "e23a9708-797b-40da-88a4-5c9de5f59c69"
      },
      "execution_count": null,
      "outputs": [
        {
          "output_type": "execute_result",
          "data": {
            "text/plain": [
              "0    0.288844\n",
              "1    0.299331\n",
              "2    0.393740\n",
              "3    0.304966\n",
              "4    0.367415\n",
              "5    0.509228\n",
              "6    0.459288\n",
              "7    0.255511\n",
              "8    0.331757\n",
              "9    0.244089\n",
              "Name: predchurn, dtype: float64"
            ]
          },
          "metadata": {},
          "execution_count": 24
        }
      ]
    },
    {
      "cell_type": "code",
      "source": [
        "data_validation['predchurn'].mean()"
      ],
      "metadata": {
        "colab": {
          "base_uri": "https://localhost:8080/"
        },
        "id": "8jt0IRmGLSdD",
        "outputId": "931e9557-d330-429c-cc65-baf2140cbc17"
      },
      "execution_count": null,
      "outputs": [
        {
          "output_type": "execute_result",
          "data": {
            "text/plain": [
              "0.4840958764167541"
            ]
          },
          "metadata": {},
          "execution_count": 25
        }
      ]
    },
    {
      "cell_type": "code",
      "source": [
        "data_validation['churn'].mean()"
      ],
      "metadata": {
        "colab": {
          "base_uri": "https://localhost:8080/"
        },
        "id": "NikXZV34LWUG",
        "outputId": "49820939-f6fd-4c25-a281-9ef05ea0d245"
      },
      "execution_count": null,
      "outputs": [
        {
          "output_type": "execute_result",
          "data": {
            "text/plain": [
              "0.019615421779882115"
            ]
          },
          "metadata": {},
          "execution_count": 26
        }
      ]
    },
    {
      "cell_type": "code",
      "source": [
        "data_validation['grading']=10-mba263.ntile(data_validation['predchurn'],10)"
      ],
      "metadata": {
        "id": "YtCmC1yrLZjT"
      },
      "execution_count": null,
      "outputs": []
    },
    {
      "cell_type": "code",
      "source": [
        "data_validation['grading'].head(10)"
      ],
      "metadata": {
        "colab": {
          "base_uri": "https://localhost:8080/"
        },
        "id": "I9h6ymGLLfFZ",
        "outputId": "4d2b3aaf-b1e6-4123-c993-3981b78da6dc"
      },
      "execution_count": null,
      "outputs": [
        {
          "output_type": "execute_result",
          "data": {
            "text/plain": [
              "0    10\n",
              "1    10\n",
              "2     9\n",
              "3    10\n",
              "4    10\n",
              "5     4\n",
              "6     7\n",
              "7    10\n",
              "8    10\n",
              "9    10\n",
              "Name: grading, dtype: int64"
            ]
          },
          "metadata": {},
          "execution_count": 28
        }
      ]
    },
    {
      "cell_type": "code",
      "source": [
        "data_calibration[ ['grading','churn'] ].groupby('grading').mean().plot(kind='bar')"
      ],
      "metadata": {
        "colab": {
          "base_uri": "https://localhost:8080/",
          "height": 470
        },
        "id": "rExwwA-TLh-Y",
        "outputId": "3963af18-f6b9-4425-ef59-05432566d36e"
      },
      "execution_count": null,
      "outputs": [
        {
          "output_type": "execute_result",
          "data": {
            "text/plain": [
              "<Axes: xlabel='grading'>"
            ]
          },
          "metadata": {},
          "execution_count": 29
        },
        {
          "output_type": "display_data",
          "data": {
            "text/plain": [
              "<Figure size 640x480 with 1 Axes>"
            ],
            "image/png": "[encoded data removed]"
          },
          "metadata": {}
        }
      ]
    },
    {
      "cell_type": "code",
      "source": [
        "data_validation[ ['churn','grading'] ].groupby('grading').mean().plot(kind='bar')"
      ],
      "metadata": {
        "colab": {
          "base_uri": "https://localhost:8080/",
          "height": 470
        },
        "id": "gG27DtVoLlj8",
        "outputId": "d542b35f-0744-4a3c-c90d-38e3ada0f90f"
      },
      "execution_count": null,
      "outputs": [
        {
          "output_type": "execute_result",
          "data": {
            "text/plain": [
              "<Axes: xlabel='grading'>"
            ]
          },
          "metadata": {},
          "execution_count": 30
        },
        {
          "output_type": "display_data",
          "data": {
            "text/plain": [
              "<Figure size 640x480 with 1 Axes>"
            ],
            "image/png": "[encoded data removed]"
          },
          "metadata": {}
        }
      ]
    },
    {
      "cell_type": "code",
      "source": [
        "gain_calibration= mba263.gain(data_calibration['churn'],data_calibration['predchurn'],10)\n",
        "gain_validation= mba263.gain(data_validation['churn'],data_validation['predchurn'],10)"
      ],
      "metadata": {
        "id": "ToaszCaFLuPQ"
      },
      "execution_count": null,
      "outputs": []
    },
    {
      "cell_type": "code",
      "source": [
        "plt.plot(gain_calibration,'r')\n",
        "plt.plot(gain_validation,'g')"
      ],
      "metadata": {
        "colab": {
          "base_uri": "https://localhost:8080/",
          "height": 447
        },
        "id": "0dTAIQpSL7hl",
        "outputId": "8ec5e0b0-29a2-416d-8fff-90c5e7e2901a"
      },
      "execution_count": null,
      "outputs": [
        {
          "output_type": "execute_result",
          "data": {
            "text/plain": [
              "[<matplotlib.lines.Line2D at 0x7ff048c73e80>]"
            ]
          },
          "metadata": {},
          "execution_count": 32
        },
        {
          "output_type": "display_data",
          "data": {
            "text/plain": [
              "<Figure size 640x480 with 1 Axes>"
            ],
            "image/png": "[encoded data removed]"
          },
          "metadata": {}
        }
      ]
    },
    {
      "cell_type": "code",
      "source": [
        "lift_calibration= mba263.lift(data_calibration['churn'],data_calibration['predchurn'],10)\n",
        "lift_validation= mba263.lift(data_validation['churn'],data_validation['predchurn'],10)"
      ],
      "metadata": {
        "id": "6-7kDWcgL_wK"
      },
      "execution_count": null,
      "outputs": []
    },
    {
      "cell_type": "code",
      "source": [
        "plt.plot(lift_calibration,'r')\n",
        "plt.plot(lift_validation,'g')"
      ],
      "metadata": {
        "colab": {
          "base_uri": "https://localhost:8080/",
          "height": 447
        },
        "id": "ve2VSFOwMEUm",
        "outputId": "dc950e5a-ce32-475d-e9c3-7c4fba2981e4"
      },
      "execution_count": null,
      "outputs": [
        {
          "output_type": "execute_result",
          "data": {
            "text/plain": [
              "[<matplotlib.lines.Line2D at 0x7ff04b151cd0>]"
            ]
          },
          "metadata": {},
          "execution_count": 34
        },
        {
          "output_type": "display_data",
          "data": {
            "text/plain": [
              "<Figure size 640x480 with 1 Axes>"
            ],
            "image/png": "[encoded data removed]"
          },
          "metadata": {}
        }
      ]
    },
    {
      "cell_type": "code",
      "source": [
        "mba263.odds_ratios(res)"
      ],
      "metadata": {
        "colab": {
          "base_uri": "https://localhost:8080/",
          "height": 551
        },
        "id": "fmeLvapuMR9V",
        "outputId": "5cb21e8e-5783-4ae3-8b99-2cb105f1fb27"
      },
      "execution_count": null,
      "outputs": [
        {
          "output_type": "execute_result",
          "data": {
            "text/plain": [
              "          Odds ratios   std err          z  P>|z|    [0.025    0.975]\n",
              "revenue      1.001646  0.000725   2.271129  0.023  1.000240  1.003052\n",
              "recchrge     0.994358  0.000780   7.237587  0.000  0.992845  0.995870\n",
              "ownrent      1.049788  0.029133   1.708997  0.087  0.993270  1.106306\n",
              "marryun      1.119943  0.029923   4.008393  0.000  1.061892  1.177994\n",
              "overage      1.000245  0.000247   0.992700  0.321  0.999766  1.000725\n",
              "roam         1.006920  0.001993   3.472288  0.001  1.003054  1.010786\n",
              "months       0.981902  0.001598  11.326417  0.000  0.978802  0.985002\n",
              "uniqsubs     1.226158  0.023990   9.427151  0.000  1.179617  1.272698\n",
              "eqpdays      1.001476  0.000065  22.771477  0.000  1.001350  1.001602\n",
              "refurb       1.296287  0.039999   7.407442  0.000  1.218690  1.373884\n",
              "actvsubs     0.823615  0.022197   7.946217  0.000  0.780552  0.866678\n",
              "prizmrur     1.114072  0.052443   2.175167  0.030  1.012333  1.215811\n",
              "prizmtwn     1.075315  0.030979   2.431142  0.015  1.015215  1.135415\n",
              "retaccpt     0.831590  0.079584   2.116141  0.034  0.677198  0.985982\n",
              "setprcm      0.830964  0.025650   6.590025  0.000  0.781203  0.880726\n",
              "retcall      2.483009  0.186617   7.946822  0.000  2.120973  2.845045"
            ],
            "text/html": [
              "\n",
              "  <div id=\"df-5e146492-d309-4307-9187-ac1229d89e1a\">\n",
              "    <div class=\"colab-df-container\">\n",
              "      <div>\n",
              "<style scoped>\n",
              "    .dataframe tbody tr th:only-of-type {\n",
              "        vertical-align: middle;\n",
              "    }\n",
              "\n",
              "    .dataframe tbody tr th {\n",
              "        vertical-align: top;\n",
              "    }\n",
              "\n",
              "    .dataframe thead th {\n",
              "        text-align: right;\n",
              "    }\n",
              "</style>\n",
              "<table border=\"1\" class=\"dataframe\">\n",
              "  <thead>\n",
              "    <tr style=\"text-align: right;\">\n",
              "      <th></th>\n",
              "      <th>Odds ratios</th>\n",
              "      <th>std err</th>\n",
              "      <th>z</th>\n",
              "      <th>P&gt;|z|</th>\n",
              "      <th>[0.025</th>\n",
              "      <th>0.975]</th>\n",
              "    </tr>\n",
              "  </thead>\n",
              "  <tbody>\n",
              "    <tr>\n",
              "      <th>revenue</th>\n",
              "      <td>1.001646</td>\n",
              "      <td>0.000725</td>\n",
              "      <td>2.271129</td>\n",
              "      <td>0.023</td>\n",
              "      <td>1.000240</td>\n",
              "      <td>1.003052</td>\n",
              "    </tr>\n",
              "    <tr>\n",
              "      <th>recchrge</th>\n",
              "      <td>0.994358</td>\n",
              "      <td>0.000780</td>\n",
              "      <td>7.237587</td>\n",
              "      <td>0.000</td>\n",
              "      <td>0.992845</td>\n",
              "      <td>0.995870</td>\n",
              "    </tr>\n",
              "    <tr>\n",
              "      <th>ownrent</th>\n",
              "      <td>1.049788</td>\n",
              "      <td>0.029133</td>\n",
              "      <td>1.708997</td>\n",
              "      <td>0.087</td>\n",
              "      <td>0.993270</td>\n",
              "      <td>1.106306</td>\n",
              "    </tr>\n",
              "    <tr>\n",
              "      <th>marryun</th>\n",
              "      <td>1.119943</td>\n",
              "      <td>0.029923</td>\n",
              "      <td>4.008393</td>\n",
              "      <td>0.000</td>\n",
              "      <td>1.061892</td>\n",
              "      <td>1.177994</td>\n",
              "    </tr>\n",
              "    <tr>\n",
              "      <th>overage</th>\n",
              "      <td>1.000245</td>\n",
              "      <td>0.000247</td>\n",
              "      <td>0.992700</td>\n",
              "      <td>0.321</td>\n",
              "      <td>0.999766</td>\n",
              "      <td>1.000725</td>\n",
              "    </tr>\n",
              "    <tr>\n",
              "      <th>roam</th>\n",
              "      <td>1.006920</td>\n",
              "      <td>0.001993</td>\n",
              "      <td>3.472288</td>\n",
              "      <td>0.001</td>\n",
              "      <td>1.003054</td>\n",
              "      <td>1.010786</td>\n",
              "    </tr>\n",
              "    <tr>\n",
              "      <th>months</th>\n",
              "      <td>0.981902</td>\n",
              "      <td>0.001598</td>\n",
              "      <td>11.326417</td>\n",
              "      <td>0.000</td>\n",
              "      <td>0.978802</td>\n",
              "      <td>0.985002</td>\n",
              "    </tr>\n",
              "    <tr>\n",
              "      <th>uniqsubs</th>\n",
              "      <td>1.226158</td>\n",
              "      <td>0.023990</td>\n",
              "      <td>9.427151</td>\n",
              "      <td>0.000</td>\n",
              "      <td>1.179617</td>\n",
              "      <td>1.272698</td>\n",
              "    </tr>\n",
              "    <tr>\n",
              "      <th>eqpdays</th>\n",
              "      <td>1.001476</td>\n",
              "      <td>0.000065</td>\n",
              "      <td>22.771477</td>\n",
              "      <td>0.000</td>\n",
              "      <td>1.001350</td>\n",
              "      <td>1.001602</td>\n",
              "    </tr>\n",
              "    <tr>\n",
              "      <th>refurb</th>\n",
              "      <td>1.296287</td>\n",
              "      <td>0.039999</td>\n",
              "      <td>7.407442</td>\n",
              "      <td>0.000</td>\n",
              "      <td>1.218690</td>\n",
              "      <td>1.373884</td>\n",
              "    </tr>\n",
              "    <tr>\n",
              "      <th>actvsubs</th>\n",
              "      <td>0.823615</td>\n",
              "      <td>0.022197</td>\n",
              "      <td>7.946217</td>\n",
              "      <td>0.000</td>\n",
              "      <td>0.780552</td>\n",
              "      <td>0.866678</td>\n",
              "    </tr>\n",
              "    <tr>\n",
              "      <th>prizmrur</th>\n",
              "      <td>1.114072</td>\n",
              "      <td>0.052443</td>\n",
              "      <td>2.175167</td>\n",
              "      <td>0.030</td>\n",
              "      <td>1.012333</td>\n",
              "      <td>1.215811</td>\n",
              "    </tr>\n",
              "    <tr>\n",
              "      <th>prizmtwn</th>\n",
              "      <td>1.075315</td>\n",
              "      <td>0.030979</td>\n",
              "      <td>2.431142</td>\n",
              "      <td>0.015</td>\n",
              "      <td>1.015215</td>\n",
              "      <td>1.135415</td>\n",
              "    </tr>\n",
              "    <tr>\n",
              "      <th>retaccpt</th>\n",
              "      <td>0.831590</td>\n",
              "      <td>0.079584</td>\n",
              "      <td>2.116141</td>\n",
              "      <td>0.034</td>\n",
              "      <td>0.677198</td>\n",
              "      <td>0.985982</td>\n",
              "    </tr>\n",
              "    <tr>\n",
              "      <th>setprcm</th>\n",
              "      <td>0.830964</td>\n",
              "      <td>0.025650</td>\n",
              "      <td>6.590025</td>\n",
              "      <td>0.000</td>\n",
              "      <td>0.781203</td>\n",
              "      <td>0.880726</td>\n",
              "    </tr>\n",
              "    <tr>\n",
              "      <th>retcall</th>\n",
              "      <td>2.483009</td>\n",
              "      <td>0.186617</td>\n",
              "      <td>7.946822</td>\n",
              "      <td>0.000</td>\n",
              "      <td>2.120973</td>\n",
              "      <td>2.845045</td>\n",
              "    </tr>\n",
              "  </tbody>\n",
              "</table>\n",
              "</div>\n",
              "      <button class=\"colab-df-convert\" onclick=\"convertToInteractive('df-5e146492-d309-4307-9187-ac1229d89e1a')\"\n",
              "              title=\"Convert this dataframe to an interactive table.\"\n",
              "              style=\"display:none;\">\n",
              "        \n",
              "  <svg xmlns=\"http://www.w3.org/2000/svg\" height=\"24px\"viewBox=\"0 0 24 24\"\n",
              "       width=\"24px\">\n",
              "    <path d=\"M0 0h24v24H0V0z\" fill=\"none\"/>\n",
              "    <path d=\"M18.56 5.44l.94 2.06.94-2.06 2.06-.94-2.06-.94-.94-2.06-.94 2.06-2.06.94zm-11 1L8.5 8.5l.94-2.06 2.06-.94-2.06-.94L8.5 2.5l-.94 2.06-2.06.94zm10 10l.94 2.06.94-2.06 2.06-.94-2.06-.94-.94-2.06-.94 2.06-2.06.94z\"/><path d=\"M17.41 7.96l-1.37-1.37c-.4-.4-.92-.59-1.43-.59-.52 0-1.04.2-1.43.59L10.3 9.45l-7.72 7.72c-.78.78-.78 2.05 0 2.83L4 21.41c.39.39.9.59 1.41.59.51 0 1.02-.2 1.41-.59l7.78-7.78 2.81-2.81c.8-.78.8-2.07 0-2.86zM5.41 20L4 18.59l7.72-7.72 1.47 1.35L5.41 20z\"/>\n",
              "  </svg>\n",
              "      </button>\n",
              "      \n",
              "  <style>\n",
              "    .colab-df-container {\n",
              "      display:flex;\n",
              "      flex-wrap:wrap;\n",
              "      gap: 12px;\n",
              "    }\n",
              "\n",
              "    .colab-df-convert {\n",
              "      background-color: #E8F0FE;\n",
              "      border: none;\n",
              "      border-radius: 50%;\n",
              "      cursor: pointer;\n",
              "      display: none;\n",
              "      fill: #1967D2;\n",
              "      height: 32px;\n",
              "      padding: 0 0 0 0;\n",
              "      width: 32px;\n",
              "    }\n",
              "\n",
              "    .colab-df-convert:hover {\n",
              "      background-color: #E2EBFA;\n",
              "      box-shadow: 0px 1px 2px rgba(60, 64, 67, 0.3), 0px 1px 3px 1px rgba(60, 64, 67, 0.15);\n",
              "      fill: #174EA6;\n",
              "    }\n",
              "\n",
              "    [theme=dark] .colab-df-convert {\n",
              "      background-color: #3B4455;\n",
              "      fill: #D2E3FC;\n",
              "    }\n",
              "\n",
              "    [theme=dark] .colab-df-convert:hover {\n",
              "      background-color: #434B5C;\n",
              "      box-shadow: 0px 1px 3px 1px rgba(0, 0, 0, 0.15);\n",
              "      filter: drop-shadow(0px 1px 2px rgba(0, 0, 0, 0.3));\n",
              "      fill: #FFFFFF;\n",
              "    }\n",
              "  </style>\n",
              "\n",
              "      <script>\n",
              "        const buttonEl =\n",
              "          document.querySelector('#df-5e146492-d309-4307-9187-ac1229d89e1a button.colab-df-convert');\n",
              "        buttonEl.style.display =\n",
              "          google.colab.kernel.accessAllowed ? 'block' : 'none';\n",
              "\n",
              "        async function convertToInteractive(key) {\n",
              "          const element = document.querySelector('#df-5e146492-d309-4307-9187-ac1229d89e1a');\n",
              "          const dataTable =\n",
              "            await google.colab.kernel.invokeFunction('convertToInteractive',\n",
              "                                                     [key], {});\n",
              "          if (!dataTable) return;\n",
              "\n",
              "          const docLinkHtml = 'Like what you see? Visit the ' +\n",
              "            '<a target=\"_blank\" href=https://colab.research.google.com/notebooks/data_table.ipynb>data table notebook</a>'\n",
              "            + ' to learn more about interactive tables.';\n",
              "          element.innerHTML = '';\n",
              "          dataTable['output_type'] = 'display_data';\n",
              "          await google.colab.output.renderOutput(dataTable, element);\n",
              "          const docLink = document.createElement('div');\n",
              "          docLink.innerHTML = docLinkHtml;\n",
              "          element.appendChild(docLink);\n",
              "        }\n",
              "      </script>\n",
              "    </div>\n",
              "  </div>\n",
              "  "
            ]
          },
          "metadata": {},
          "execution_count": 35
        }
      ]
    },
    {
      "cell_type": "code",
      "source": [
        "x_std=data_validation[varlist].std()\n",
        "x_std"
      ],
      "metadata": {
        "colab": {
          "base_uri": "https://localhost:8080/"
        },
        "id": "d9DlgaWWMRhp",
        "outputId": "5ad979b4-ab21-4938-858c-63c5872d7de6"
      },
      "execution_count": null,
      "outputs": [
        {
          "output_type": "execute_result",
          "data": {
            "text/plain": [
              "revenue      44.413874\n",
              "recchrge     24.233378\n",
              "ownrent       0.469417\n",
              "marryun       0.485459\n",
              "overage      93.710255\n",
              "roam          9.953151\n",
              "months        9.992800\n",
              "uniqsubs      0.838612\n",
              "eqpdays     250.219488\n",
              "refurb        0.339606\n",
              "actvsubs      0.626597\n",
              "prizmrur      0.207511\n",
              "prizmtwn      0.354403\n",
              "retaccpt      0.128583\n",
              "setprcm       0.497041\n",
              "retcall       0.158540\n",
              "dtype: float64"
            ]
          },
          "metadata": {},
          "execution_count": 36
        }
      ]
    },
    {
      "cell_type": "code",
      "source": [
        "odds_ratios=mba263.odds_ratios(res)['Odds ratios']\n",
        "odds_ratios"
      ],
      "metadata": {
        "colab": {
          "base_uri": "https://localhost:8080/"
        },
        "id": "SvDdbdwlMIMH",
        "outputId": "843b445f-789f-4290-f07f-499cd063d7ba"
      },
      "execution_count": null,
      "outputs": [
        {
          "output_type": "execute_result",
          "data": {
            "text/plain": [
              "revenue     1.001646\n",
              "recchrge    0.994358\n",
              "ownrent     1.049788\n",
              "marryun     1.119943\n",
              "overage     1.000245\n",
              "roam        1.006920\n",
              "months      0.981902\n",
              "uniqsubs    1.226158\n",
              "eqpdays     1.001476\n",
              "refurb      1.296287\n",
              "actvsubs    0.823615\n",
              "prizmrur    1.114072\n",
              "prizmtwn    1.075315\n",
              "retaccpt    0.831590\n",
              "setprcm     0.830964\n",
              "retcall     2.483009\n",
              "Name: Odds ratios, dtype: float64"
            ]
          },
          "metadata": {},
          "execution_count": 37
        }
      ]
    },
    {
      "cell_type": "code",
      "source": [
        "normalized_odds_ratios=numpy.power(odds_ratios,x_std)\n",
        "normalized_odds_ratios"
      ],
      "metadata": {
        "colab": {
          "base_uri": "https://localhost:8080/"
        },
        "id": "tFQfOuvDVWEP",
        "outputId": "81ac49bf-bfe8-4366-f90d-09893c7a34ee"
      },
      "execution_count": null,
      "outputs": [
        {
          "output_type": "execute_result",
          "data": {
            "text/plain": [
              "revenue     1.075777\n",
              "recchrge    0.871863\n",
              "ownrent     1.023070\n",
              "marryun     1.056532\n",
              "overage     1.023261\n",
              "roam        1.071044\n",
              "months      0.833182\n",
              "uniqsubs    1.186468\n",
              "eqpdays     1.446320\n",
              "refurb      1.092129\n",
              "actvsubs    0.885509\n",
              "prizmrur    1.022669\n",
              "prizmtwn    1.026068\n",
              "retaccpt    0.976566\n",
              "setprcm     0.912072\n",
              "retcall     1.155100\n",
              "dtype: float64"
            ]
          },
          "metadata": {},
          "execution_count": 38
        }
      ]
    },
    {
      "cell_type": "code",
      "source": [
        "normalized_odds_ratios[normalized_odds_ratios<1]=1/normalized_odds_ratios[normalized_odds_ratios<1]"
      ],
      "metadata": {
        "id": "MkXZMHd4Vcu7"
      },
      "execution_count": null,
      "outputs": []
    },
    {
      "cell_type": "code",
      "source": [
        "normalized_odds_ratios = normalized_odds_ratios.fillna(0)\n",
        "normalized_odds_ratios.sort_values(ascending=False)"
      ],
      "metadata": {
        "colab": {
          "base_uri": "https://localhost:8080/"
        },
        "id": "jpIrtcirVn0t",
        "outputId": "0575b1fa-fb5e-45e1-f13b-6008c2ae4856"
      },
      "execution_count": null,
      "outputs": [
        {
          "output_type": "execute_result",
          "data": {
            "text/plain": [
              "eqpdays     1.446320\n",
              "months      1.200219\n",
              "uniqsubs    1.186468\n",
              "retcall     1.155100\n",
              "recchrge    1.146969\n",
              "actvsubs    1.129294\n",
              "setprcm     1.096405\n",
              "refurb      1.092129\n",
              "revenue     1.075777\n",
              "roam        1.071044\n",
              "marryun     1.056532\n",
              "prizmtwn    1.026068\n",
              "retaccpt    1.023996\n",
              "overage     1.023261\n",
              "ownrent     1.023070\n",
              "prizmrur    1.022669\n",
              "dtype: float64"
            ]
          },
          "metadata": {},
          "execution_count": 40
        }
      ]
    },
    {
      "cell_type": "code",
      "source": [
        "no_churn = data[data['churn'] == 0]\n",
        "churn = data[data['churn'] == 1]"
      ],
      "metadata": {
        "id": "ARqf5PHLxxis"
      },
      "execution_count": null,
      "outputs": []
    },
    {
      "cell_type": "code",
      "source": [
        "not_missing = data[data['setprcm'] == 0]"
      ],
      "metadata": {
        "id": "m4o-T6lxwxBu"
      },
      "execution_count": null,
      "outputs": []
    },
    {
      "cell_type": "code",
      "source": [
        "no_churn_no_miss = not_missing[not_missing['churn'] == 0]\n",
        "churn_no_miss = not_missing[not_missing['churn'] == 1]"
      ],
      "metadata": {
        "id": "w2BrTa0UVp_c"
      },
      "execution_count": null,
      "outputs": []
    },
    {
      "cell_type": "code",
      "source": [
        "no_churn_no_miss['setprc'].mean()"
      ],
      "metadata": {
        "colab": {
          "base_uri": "https://localhost:8080/"
        },
        "id": "r0OTH9GKdX9k",
        "outputId": "f8f286e7-bc8c-4a72-9d06-a2fb02655ecc"
      },
      "execution_count": null,
      "outputs": [
        {
          "output_type": "execute_result",
          "data": {
            "text/plain": [
              "82.6513995871987"
            ]
          },
          "metadata": {},
          "execution_count": 51
        }
      ]
    },
    {
      "cell_type": "code",
      "source": [
        "churn_no_miss['setprc'].mean()"
      ],
      "metadata": {
        "colab": {
          "base_uri": "https://localhost:8080/"
        },
        "id": "Fv_HjJcfdfg2",
        "outputId": "cd368515-e569-400d-c77f-72af5f694abe"
      },
      "execution_count": null,
      "outputs": [
        {
          "output_type": "execute_result",
          "data": {
            "text/plain": [
              "82.39812948671455"
            ]
          },
          "metadata": {},
          "execution_count": 52
        }
      ]
    },
    {
      "cell_type": "code",
      "source": [
        "data['setprc'].mean()\n"
      ],
      "metadata": {
        "colab": {
          "base_uri": "https://localhost:8080/"
        },
        "id": "LGA8H-kPd1ZP",
        "outputId": "e270a231-7189-42b5-aac6-cf65ff8609f5"
      },
      "execution_count": null,
      "outputs": [
        {
          "output_type": "execute_result",
          "data": {
            "text/plain": [
              "35.79858027498698"
            ]
          },
          "metadata": {},
          "execution_count": 53
        }
      ]
    },
    {
      "cell_type": "code",
      "source": [
        "no_churn['months'].mean()"
      ],
      "metadata": {
        "colab": {
          "base_uri": "https://localhost:8080/"
        },
        "id": "jkjwYWQ_w9IF",
        "outputId": "35c79619-e0f1-4d94-e78e-14f48428f5d5"
      },
      "execution_count": null,
      "outputs": [
        {
          "output_type": "execute_result",
          "data": {
            "text/plain": [
              "18.633074269400055"
            ]
          },
          "metadata": {},
          "execution_count": 61
        }
      ]
    },
    {
      "cell_type": "code",
      "source": [
        "churn['months'].mean()"
      ],
      "metadata": {
        "colab": {
          "base_uri": "https://localhost:8080/"
        },
        "id": "jefwiI6yxiH8",
        "outputId": "df3f90ab-ddfb-45c6-a007-ac8b776e189e"
      },
      "execution_count": null,
      "outputs": [
        {
          "output_type": "execute_result",
          "data": {
            "text/plain": [
              "19.039012082100054"
            ]
          },
          "metadata": {},
          "execution_count": 62
        }
      ]
    }
  ]
}